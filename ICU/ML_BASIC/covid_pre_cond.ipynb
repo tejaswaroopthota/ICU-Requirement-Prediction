{
  "nbformat": 4,
  "nbformat_minor": 0,
  "metadata": {
    "colab": {
      "name": "covid pre cond.ipynb",
      "provenance": [],
      "collapsed_sections": []
    },
    "kernelspec": {
      "name": "python3",
      "display_name": "Python 3"
    },
    "language_info": {
      "name": "python"
    }
  },
  "cells": [
    {
      "cell_type": "markdown",
      "metadata": {
        "id": "AizhxW7rHUz8"
      },
      "source": [
        "\n",
        "## **Prediction of ICU requirement based on covid pre-condition data**"
      ]
    },
    {
      "cell_type": "code",
      "metadata": {
        "id": "UffgLU-1YXpG"
      },
      "source": [
        "## Importing libraries\n",
        "\n",
        "import numpy as np\n",
        "import pandas as pd\n",
        "import matplotlib.pyplot as plt\n",
        "%matplotlib inline\n",
        "import seaborn as sns"
      ],
      "execution_count": 25,
      "outputs": []
    },
    {
      "cell_type": "code",
      "metadata": {
        "colab": {
          "base_uri": "https://localhost:8080/",
          "height": 313
        },
        "id": "U4OcMaLHvqOf",
        "outputId": "1c20577e-1f9d-46b0-f1ff-b5efb74f8004"
      },
      "source": [
        "## Loading the data\n",
        "\n",
        "df = pd.read_csv('/content/covid.csv')\n",
        "df.head()"
      ],
      "execution_count": 26,
      "outputs": [
        {
          "output_type": "execute_result",
          "data": {
            "text/html": [
              "<div>\n",
              "<style scoped>\n",
              "    .dataframe tbody tr th:only-of-type {\n",
              "        vertical-align: middle;\n",
              "    }\n",
              "\n",
              "    .dataframe tbody tr th {\n",
              "        vertical-align: top;\n",
              "    }\n",
              "\n",
              "    .dataframe thead th {\n",
              "        text-align: right;\n",
              "    }\n",
              "</style>\n",
              "<table border=\"1\" class=\"dataframe\">\n",
              "  <thead>\n",
              "    <tr style=\"text-align: right;\">\n",
              "      <th></th>\n",
              "      <th>id</th>\n",
              "      <th>sex</th>\n",
              "      <th>patient_type</th>\n",
              "      <th>entry_date</th>\n",
              "      <th>date_symptoms</th>\n",
              "      <th>date_died</th>\n",
              "      <th>intubed</th>\n",
              "      <th>pneumonia</th>\n",
              "      <th>age</th>\n",
              "      <th>pregnancy</th>\n",
              "      <th>diabetes</th>\n",
              "      <th>copd</th>\n",
              "      <th>asthma</th>\n",
              "      <th>inmsupr</th>\n",
              "      <th>hypertension</th>\n",
              "      <th>other_disease</th>\n",
              "      <th>cardiovascular</th>\n",
              "      <th>obesity</th>\n",
              "      <th>renal_chronic</th>\n",
              "      <th>tobacco</th>\n",
              "      <th>contact_other_covid</th>\n",
              "      <th>covid_res</th>\n",
              "      <th>icu</th>\n",
              "    </tr>\n",
              "  </thead>\n",
              "  <tbody>\n",
              "    <tr>\n",
              "      <th>0</th>\n",
              "      <td>16169f</td>\n",
              "      <td>2</td>\n",
              "      <td>1</td>\n",
              "      <td>04-05-2020</td>\n",
              "      <td>02-05-2020</td>\n",
              "      <td>9999-99-99</td>\n",
              "      <td>97</td>\n",
              "      <td>2</td>\n",
              "      <td>27</td>\n",
              "      <td>97</td>\n",
              "      <td>2</td>\n",
              "      <td>2</td>\n",
              "      <td>2</td>\n",
              "      <td>2</td>\n",
              "      <td>2</td>\n",
              "      <td>2</td>\n",
              "      <td>2</td>\n",
              "      <td>2</td>\n",
              "      <td>2</td>\n",
              "      <td>2</td>\n",
              "      <td>2</td>\n",
              "      <td>1</td>\n",
              "      <td>97</td>\n",
              "    </tr>\n",
              "    <tr>\n",
              "      <th>1</th>\n",
              "      <td>1009bf</td>\n",
              "      <td>2</td>\n",
              "      <td>1</td>\n",
              "      <td>19-03-2020</td>\n",
              "      <td>17-03-2020</td>\n",
              "      <td>9999-99-99</td>\n",
              "      <td>97</td>\n",
              "      <td>2</td>\n",
              "      <td>24</td>\n",
              "      <td>97</td>\n",
              "      <td>2</td>\n",
              "      <td>2</td>\n",
              "      <td>2</td>\n",
              "      <td>2</td>\n",
              "      <td>2</td>\n",
              "      <td>2</td>\n",
              "      <td>2</td>\n",
              "      <td>2</td>\n",
              "      <td>2</td>\n",
              "      <td>2</td>\n",
              "      <td>99</td>\n",
              "      <td>1</td>\n",
              "      <td>97</td>\n",
              "    </tr>\n",
              "    <tr>\n",
              "      <th>2</th>\n",
              "      <td>167386</td>\n",
              "      <td>1</td>\n",
              "      <td>2</td>\n",
              "      <td>06-04-2020</td>\n",
              "      <td>01-04-2020</td>\n",
              "      <td>9999-99-99</td>\n",
              "      <td>2</td>\n",
              "      <td>2</td>\n",
              "      <td>54</td>\n",
              "      <td>2</td>\n",
              "      <td>2</td>\n",
              "      <td>2</td>\n",
              "      <td>2</td>\n",
              "      <td>2</td>\n",
              "      <td>2</td>\n",
              "      <td>2</td>\n",
              "      <td>2</td>\n",
              "      <td>1</td>\n",
              "      <td>2</td>\n",
              "      <td>2</td>\n",
              "      <td>99</td>\n",
              "      <td>1</td>\n",
              "      <td>2</td>\n",
              "    </tr>\n",
              "    <tr>\n",
              "      <th>3</th>\n",
              "      <td>0b5948</td>\n",
              "      <td>2</td>\n",
              "      <td>2</td>\n",
              "      <td>17-04-2020</td>\n",
              "      <td>10-04-2020</td>\n",
              "      <td>9999-99-99</td>\n",
              "      <td>2</td>\n",
              "      <td>1</td>\n",
              "      <td>30</td>\n",
              "      <td>97</td>\n",
              "      <td>2</td>\n",
              "      <td>2</td>\n",
              "      <td>2</td>\n",
              "      <td>2</td>\n",
              "      <td>2</td>\n",
              "      <td>2</td>\n",
              "      <td>2</td>\n",
              "      <td>2</td>\n",
              "      <td>2</td>\n",
              "      <td>2</td>\n",
              "      <td>99</td>\n",
              "      <td>1</td>\n",
              "      <td>2</td>\n",
              "    </tr>\n",
              "    <tr>\n",
              "      <th>4</th>\n",
              "      <td>0d01b5</td>\n",
              "      <td>1</td>\n",
              "      <td>2</td>\n",
              "      <td>13-04-2020</td>\n",
              "      <td>13-04-2020</td>\n",
              "      <td>22-04-2020</td>\n",
              "      <td>2</td>\n",
              "      <td>2</td>\n",
              "      <td>60</td>\n",
              "      <td>2</td>\n",
              "      <td>1</td>\n",
              "      <td>2</td>\n",
              "      <td>2</td>\n",
              "      <td>2</td>\n",
              "      <td>1</td>\n",
              "      <td>2</td>\n",
              "      <td>1</td>\n",
              "      <td>2</td>\n",
              "      <td>2</td>\n",
              "      <td>2</td>\n",
              "      <td>99</td>\n",
              "      <td>1</td>\n",
              "      <td>2</td>\n",
              "    </tr>\n",
              "  </tbody>\n",
              "</table>\n",
              "</div>"
            ],
            "text/plain": [
              "       id  sex  patient_type  ... contact_other_covid covid_res icu\n",
              "0  16169f    2             1  ...                   2         1  97\n",
              "1  1009bf    2             1  ...                  99         1  97\n",
              "2  167386    1             2  ...                  99         1   2\n",
              "3  0b5948    2             2  ...                  99         1   2\n",
              "4  0d01b5    1             2  ...                  99         1   2\n",
              "\n",
              "[5 rows x 23 columns]"
            ]
          },
          "metadata": {
            "tags": []
          },
          "execution_count": 26
        }
      ]
    },
    {
      "cell_type": "markdown",
      "metadata": {
        "id": "ku3dpm0jDbUP"
      },
      "source": [
        "**FEATURES OF THE DATA SET**\n",
        "\n",
        "1. Id - The identification number of the patient.\n",
        "\n",
        "2. Sex -  The sex of the patient. (Female -1, Male - 2)\n",
        "3. Patient_type - The type of care received by the patient . It is called an outpatient if the paitent returned home or it is called an inpatient if they were admitted to hospital. (Outpatient - 1, Inpatient - 2)\n",
        "4. Entry_date - The date of the patient's admission to the care unit.\n",
        "5. Date_symptoms - The date on which the patient's symptoms began.\n",
        "6. Date_died - The date the patient died. “9999-99-99” stands for recovered)\n",
        "7. Intubed -  If the patient required intubation. (Yes - 1, No - 2, Data missing or NA - 97,98,99)\n",
        "8. Pneumonia - If the patient was diagnosed with pneumonia. (Yes - 1, No - 2, Data missing or NA - 97,98,99)\n",
        "9. Age - The age of the patient.\n",
        "10. Pregnancy - If the patient is pregnant. (Yes - 1, No - 2, Data missing or NA - 97,98,99)\n",
        "11. Diabetes - If the patient has a diagnosis of diabetes. (Yes - 1, No - 2, Data missing or NA - 97,98,99)\n",
        "12. COPD - If the patient has a diagnosis of Chronic obstructive pulmonary disease (COPD). (Yes - 1, No - 2, Data missing or NA - 97,98,99)\n",
        "13. Asthma - If the patient has a diagnosis of asthma. (Yes - 1, No - 2, Data missing or NA - 97,98,99)\n",
        "14. Inmsupr - If the patient has immuno suppression that is weakened immune system. (Yes - 1, No - 2, Data missing or NA - 97,98,99)\n",
        "15. Hypertension - If the patient has a diagnosis of hypertension. (Yes - 1, No - 2, Data missing or NA - 97,98,99)\n",
        "16. Other_disease - If the patient has a diagnosis of other diseases. (Yes - 1, No - 2, Data missing or NA - 97,98,99)\n",
        "17. Cardiovascular - If the patient has a diagnosis of cardiovascular disease. (Yes - 1, No - 2, Data missing or NA - 97,98,99)\n",
        "18. Obesity - If the patient is diagnosed with obesity. (Yes - 1, No - 2, Data missing or NA - 97,98,99)\n",
        "19. Renal_chronic - If the patient has a diagnosis of chronic kidney failure. (Yes - 1, No - 2, Data missing or NA - 97,98,99)\n",
        "20. Tobacco - If the patient is a tobacco user. (Yes - 1, No - 2, Data missing or NA - 97,98,99)\n",
        "21. Contact_other_covid - If the patient had contact with other Covid19 patient. (Yes - 1, No - 2, Data missing or NA - 97,98,99)\n",
        "22. Covid_res - The result of the test. (Positive - 1, Negative - 2, Awaiting Results - 3)\n",
        "23. ICU - If the patient required to enter an Intensive Care Unit. (Yes - 1, No - 2, Data missing or NA - 97,98,99)"
      ]
    },
    {
      "cell_type": "code",
      "metadata": {
        "colab": {
          "base_uri": "https://localhost:8080/"
        },
        "id": "KRFQ6jOLxHA4",
        "outputId": "0d0f6482-95d5-45ae-9de3-b68b9bf5a487"
      },
      "source": [
        "df.info()"
      ],
      "execution_count": 27,
      "outputs": [
        {
          "output_type": "stream",
          "text": [
            "<class 'pandas.core.frame.DataFrame'>\n",
            "RangeIndex: 566602 entries, 0 to 566601\n",
            "Data columns (total 23 columns):\n",
            " #   Column               Non-Null Count   Dtype \n",
            "---  ------               --------------   ----- \n",
            " 0   id                   566602 non-null  object\n",
            " 1   sex                  566602 non-null  int64 \n",
            " 2   patient_type         566602 non-null  int64 \n",
            " 3   entry_date           566602 non-null  object\n",
            " 4   date_symptoms        566602 non-null  object\n",
            " 5   date_died            566602 non-null  object\n",
            " 6   intubed              566602 non-null  int64 \n",
            " 7   pneumonia            566602 non-null  int64 \n",
            " 8   age                  566602 non-null  int64 \n",
            " 9   pregnancy            566602 non-null  int64 \n",
            " 10  diabetes             566602 non-null  int64 \n",
            " 11  copd                 566602 non-null  int64 \n",
            " 12  asthma               566602 non-null  int64 \n",
            " 13  inmsupr              566602 non-null  int64 \n",
            " 14  hypertension         566602 non-null  int64 \n",
            " 15  other_disease        566602 non-null  int64 \n",
            " 16  cardiovascular       566602 non-null  int64 \n",
            " 17  obesity              566602 non-null  int64 \n",
            " 18  renal_chronic        566602 non-null  int64 \n",
            " 19  tobacco              566602 non-null  int64 \n",
            " 20  contact_other_covid  566602 non-null  int64 \n",
            " 21  covid_res            566602 non-null  int64 \n",
            " 22  icu                  566602 non-null  int64 \n",
            "dtypes: int64(19), object(4)\n",
            "memory usage: 99.4+ MB\n"
          ],
          "name": "stdout"
        }
      ]
    },
    {
      "cell_type": "code",
      "metadata": {
        "colab": {
          "base_uri": "https://localhost:8080/"
        },
        "id": "nDHRw7bWxNfP",
        "outputId": "63d238d1-473e-4f1f-9ddd-6a2332aa41d9"
      },
      "source": [
        "## shape of the data\n",
        "\n",
        "df.shape"
      ],
      "execution_count": 28,
      "outputs": [
        {
          "output_type": "execute_result",
          "data": {
            "text/plain": [
              "(566602, 23)"
            ]
          },
          "metadata": {
            "tags": []
          },
          "execution_count": 28
        }
      ]
    },
    {
      "cell_type": "markdown",
      "metadata": {
        "id": "u2zRamC8HJPC"
      },
      "source": [
        "## **Cleaning the Data**"
      ]
    },
    {
      "cell_type": "code",
      "metadata": {
        "id": "rQe_-yZIzQxS"
      },
      "source": [
        "## droping some columns\n",
        "\n",
        "df.drop(columns={\"id\",\"patient_type\", \"entry_date\",\"date_symptoms\"}, axis=1, inplace=True)"
      ],
      "execution_count": 29,
      "outputs": []
    },
    {
      "cell_type": "code",
      "metadata": {
        "id": "2tjU_CKPzjdR"
      },
      "source": [
        "## changing the date of dead column into dead: which gives 0 for the person alive and 1 for the person dead\n",
        "\n",
        "df['date_died'] = df['date_died'].apply(lambda x: 0 if x == '9999-99-99' else 1)"
      ],
      "execution_count": 30,
      "outputs": []
    },
    {
      "cell_type": "code",
      "metadata": {
        "id": "b--4HZdR6Rnk"
      },
      "source": [
        "df = df.rename(columns={'date_died': 'dead'})"
      ],
      "execution_count": 31,
      "outputs": []
    },
    {
      "cell_type": "code",
      "metadata": {
        "colab": {
          "base_uri": "https://localhost:8080/",
          "height": 226
        },
        "id": "IFfDf2u1zx_W",
        "outputId": "1899fdc5-53f3-40d3-a984-a3483e0ca0cc"
      },
      "source": [
        "df.head()"
      ],
      "execution_count": 32,
      "outputs": [
        {
          "output_type": "execute_result",
          "data": {
            "text/html": [
              "<div>\n",
              "<style scoped>\n",
              "    .dataframe tbody tr th:only-of-type {\n",
              "        vertical-align: middle;\n",
              "    }\n",
              "\n",
              "    .dataframe tbody tr th {\n",
              "        vertical-align: top;\n",
              "    }\n",
              "\n",
              "    .dataframe thead th {\n",
              "        text-align: right;\n",
              "    }\n",
              "</style>\n",
              "<table border=\"1\" class=\"dataframe\">\n",
              "  <thead>\n",
              "    <tr style=\"text-align: right;\">\n",
              "      <th></th>\n",
              "      <th>sex</th>\n",
              "      <th>dead</th>\n",
              "      <th>intubed</th>\n",
              "      <th>pneumonia</th>\n",
              "      <th>age</th>\n",
              "      <th>pregnancy</th>\n",
              "      <th>diabetes</th>\n",
              "      <th>copd</th>\n",
              "      <th>asthma</th>\n",
              "      <th>inmsupr</th>\n",
              "      <th>hypertension</th>\n",
              "      <th>other_disease</th>\n",
              "      <th>cardiovascular</th>\n",
              "      <th>obesity</th>\n",
              "      <th>renal_chronic</th>\n",
              "      <th>tobacco</th>\n",
              "      <th>contact_other_covid</th>\n",
              "      <th>covid_res</th>\n",
              "      <th>icu</th>\n",
              "    </tr>\n",
              "  </thead>\n",
              "  <tbody>\n",
              "    <tr>\n",
              "      <th>0</th>\n",
              "      <td>2</td>\n",
              "      <td>0</td>\n",
              "      <td>97</td>\n",
              "      <td>2</td>\n",
              "      <td>27</td>\n",
              "      <td>97</td>\n",
              "      <td>2</td>\n",
              "      <td>2</td>\n",
              "      <td>2</td>\n",
              "      <td>2</td>\n",
              "      <td>2</td>\n",
              "      <td>2</td>\n",
              "      <td>2</td>\n",
              "      <td>2</td>\n",
              "      <td>2</td>\n",
              "      <td>2</td>\n",
              "      <td>2</td>\n",
              "      <td>1</td>\n",
              "      <td>97</td>\n",
              "    </tr>\n",
              "    <tr>\n",
              "      <th>1</th>\n",
              "      <td>2</td>\n",
              "      <td>0</td>\n",
              "      <td>97</td>\n",
              "      <td>2</td>\n",
              "      <td>24</td>\n",
              "      <td>97</td>\n",
              "      <td>2</td>\n",
              "      <td>2</td>\n",
              "      <td>2</td>\n",
              "      <td>2</td>\n",
              "      <td>2</td>\n",
              "      <td>2</td>\n",
              "      <td>2</td>\n",
              "      <td>2</td>\n",
              "      <td>2</td>\n",
              "      <td>2</td>\n",
              "      <td>99</td>\n",
              "      <td>1</td>\n",
              "      <td>97</td>\n",
              "    </tr>\n",
              "    <tr>\n",
              "      <th>2</th>\n",
              "      <td>1</td>\n",
              "      <td>0</td>\n",
              "      <td>2</td>\n",
              "      <td>2</td>\n",
              "      <td>54</td>\n",
              "      <td>2</td>\n",
              "      <td>2</td>\n",
              "      <td>2</td>\n",
              "      <td>2</td>\n",
              "      <td>2</td>\n",
              "      <td>2</td>\n",
              "      <td>2</td>\n",
              "      <td>2</td>\n",
              "      <td>1</td>\n",
              "      <td>2</td>\n",
              "      <td>2</td>\n",
              "      <td>99</td>\n",
              "      <td>1</td>\n",
              "      <td>2</td>\n",
              "    </tr>\n",
              "    <tr>\n",
              "      <th>3</th>\n",
              "      <td>2</td>\n",
              "      <td>0</td>\n",
              "      <td>2</td>\n",
              "      <td>1</td>\n",
              "      <td>30</td>\n",
              "      <td>97</td>\n",
              "      <td>2</td>\n",
              "      <td>2</td>\n",
              "      <td>2</td>\n",
              "      <td>2</td>\n",
              "      <td>2</td>\n",
              "      <td>2</td>\n",
              "      <td>2</td>\n",
              "      <td>2</td>\n",
              "      <td>2</td>\n",
              "      <td>2</td>\n",
              "      <td>99</td>\n",
              "      <td>1</td>\n",
              "      <td>2</td>\n",
              "    </tr>\n",
              "    <tr>\n",
              "      <th>4</th>\n",
              "      <td>1</td>\n",
              "      <td>1</td>\n",
              "      <td>2</td>\n",
              "      <td>2</td>\n",
              "      <td>60</td>\n",
              "      <td>2</td>\n",
              "      <td>1</td>\n",
              "      <td>2</td>\n",
              "      <td>2</td>\n",
              "      <td>2</td>\n",
              "      <td>1</td>\n",
              "      <td>2</td>\n",
              "      <td>1</td>\n",
              "      <td>2</td>\n",
              "      <td>2</td>\n",
              "      <td>2</td>\n",
              "      <td>99</td>\n",
              "      <td>1</td>\n",
              "      <td>2</td>\n",
              "    </tr>\n",
              "  </tbody>\n",
              "</table>\n",
              "</div>"
            ],
            "text/plain": [
              "   sex  dead  intubed  pneumonia  ...  tobacco  contact_other_covid  covid_res  icu\n",
              "0    2     0       97          2  ...        2                    2          1   97\n",
              "1    2     0       97          2  ...        2                   99          1   97\n",
              "2    1     0        2          2  ...        2                   99          1    2\n",
              "3    2     0        2          1  ...        2                   99          1    2\n",
              "4    1     1        2          2  ...        2                   99          1    2\n",
              "\n",
              "[5 rows x 19 columns]"
            ]
          },
          "metadata": {
            "tags": []
          },
          "execution_count": 32
        }
      ]
    },
    {
      "cell_type": "code",
      "metadata": {
        "id": "3DnfTrdH0BOe"
      },
      "source": [
        "## replacing all other uncertain values as NAN\n",
        "\n",
        "df=df.replace({97:np.nan,98:np.nan,99:np.nan})"
      ],
      "execution_count": 33,
      "outputs": []
    },
    {
      "cell_type": "code",
      "metadata": {
        "id": "y2dM92RD0byF"
      },
      "source": [
        "## droping all the rows having NAN\n",
        "\n",
        "df=df.dropna()"
      ],
      "execution_count": 34,
      "outputs": []
    },
    {
      "cell_type": "code",
      "metadata": {
        "colab": {
          "base_uri": "https://localhost:8080/"
        },
        "id": "fnIL5ciT0lXl",
        "outputId": "84088cc1-b122-4135-c10a-41df441e237a"
      },
      "source": [
        "## counting the null elements in each column\n",
        "\n",
        "df.isnull().sum()"
      ],
      "execution_count": 35,
      "outputs": [
        {
          "output_type": "execute_result",
          "data": {
            "text/plain": [
              "sex                    0\n",
              "dead                   0\n",
              "intubed                0\n",
              "pneumonia              0\n",
              "age                    0\n",
              "pregnancy              0\n",
              "diabetes               0\n",
              "copd                   0\n",
              "asthma                 0\n",
              "inmsupr                0\n",
              "hypertension           0\n",
              "other_disease          0\n",
              "cardiovascular         0\n",
              "obesity                0\n",
              "renal_chronic          0\n",
              "tobacco                0\n",
              "contact_other_covid    0\n",
              "covid_res              0\n",
              "icu                    0\n",
              "dtype: int64"
            ]
          },
          "metadata": {
            "tags": []
          },
          "execution_count": 35
        }
      ]
    },
    {
      "cell_type": "code",
      "metadata": {
        "colab": {
          "base_uri": "https://localhost:8080/"
        },
        "id": "WjWKbYvw1gGx",
        "outputId": "ba307bae-7931-4b4f-afc7-253d5acdfb3f"
      },
      "source": [
        "## finding different sorts of age\n",
        "\n",
        "df['age'].value_counts()"
      ],
      "execution_count": 36,
      "outputs": [
        {
          "output_type": "execute_result",
          "data": {
            "text/plain": [
              "56.0     497\n",
              "57.0     473\n",
              "50.0     464\n",
              "52.0     464\n",
              "61.0     464\n",
              "        ... \n",
              "100.0      7\n",
              "101.0      4\n",
              "102.0      2\n",
              "105.0      1\n",
              "115.0      1\n",
              "Name: age, Length: 102, dtype: int64"
            ]
          },
          "metadata": {
            "tags": []
          },
          "execution_count": 36
        }
      ]
    },
    {
      "cell_type": "code",
      "metadata": {
        "id": "FbFZoZk20wv9"
      },
      "source": [
        "## Categeroise age into 2 groups\n",
        "## People aged below 50 or equal to 50 as \"0\"\n",
        "## People from 51 yrs and above as \"1\"\n",
        "\n",
        "df['age'] = df['age'].apply(lambda x: 0 if x <= 50 else 1)"
      ],
      "execution_count": 37,
      "outputs": []
    },
    {
      "cell_type": "code",
      "metadata": {
        "colab": {
          "base_uri": "https://localhost:8080/"
        },
        "id": "YUXtoBC_1uB2",
        "outputId": "fef89050-e10c-4658-e89f-4ca4982459c6"
      },
      "source": [
        "## counting number of people under categeories \"0\" and \"1\"\n",
        "df['age'].value_counts()"
      ],
      "execution_count": 38,
      "outputs": [
        {
          "output_type": "execute_result",
          "data": {
            "text/plain": [
              "1    12400\n",
              "0    10733\n",
              "Name: age, dtype: int64"
            ]
          },
          "metadata": {
            "tags": []
          },
          "execution_count": 38
        }
      ]
    },
    {
      "cell_type": "markdown",
      "metadata": {
        "id": "PQSHau40JaDo"
      },
      "source": [
        "We observed in features that (df.[ \"covid_res\" ] == 3 ) for those whose test result is undeclared. For now let us put it as null and analyse only for them whose covid test result is declared."
      ]
    },
    {
      "cell_type": "code",
      "metadata": {
        "colab": {
          "base_uri": "https://localhost:8080/"
        },
        "id": "lPaETTlb2OyM",
        "outputId": "132c047b-de28-4b81-b3cb-a10ae8d97e7b"
      },
      "source": [
        "df[\"covid_res\"].value_counts()"
      ],
      "execution_count": 39,
      "outputs": [
        {
          "output_type": "execute_result",
          "data": {
            "text/plain": [
              "1.0    11893\n",
              "2.0     8436\n",
              "3.0     2804\n",
              "Name: covid_res, dtype: int64"
            ]
          },
          "metadata": {
            "tags": []
          },
          "execution_count": 39
        }
      ]
    },
    {
      "cell_type": "code",
      "metadata": {
        "id": "7kvdC3TL3b2B"
      },
      "source": [
        "## removing those rows with test result undeclared\n",
        "\n",
        "df=df[df['covid_res'] != 3]"
      ],
      "execution_count": 40,
      "outputs": []
    },
    {
      "cell_type": "code",
      "metadata": {
        "colab": {
          "base_uri": "https://localhost:8080/"
        },
        "id": "Dig_rXk35nWL",
        "outputId": "dc46e131-b784-4f14-d9b6-3625e82a9c67"
      },
      "source": [
        "## checking wether they are removed\n",
        "\n",
        "df[\"covid_res\"].value_counts()"
      ],
      "execution_count": 41,
      "outputs": [
        {
          "output_type": "execute_result",
          "data": {
            "text/plain": [
              "1.0    11893\n",
              "2.0     8436\n",
              "Name: covid_res, dtype: int64"
            ]
          },
          "metadata": {
            "tags": []
          },
          "execution_count": 41
        }
      ]
    },
    {
      "cell_type": "code",
      "metadata": {
        "colab": {
          "base_uri": "https://localhost:8080/"
        },
        "id": "fHvwgqJiu42d",
        "outputId": "94deb6d5-e5b6-4cd6-9759-47f316ee56b0"
      },
      "source": [
        "df[\"dead\"].value_counts()"
      ],
      "execution_count": 55,
      "outputs": [
        {
          "output_type": "execute_result",
          "data": {
            "text/plain": [
              "0.0    16475\n",
              "1.0     3854\n",
              "Name: dead, dtype: int64"
            ]
          },
          "metadata": {
            "tags": []
          },
          "execution_count": 55
        }
      ]
    },
    {
      "cell_type": "code",
      "metadata": {
        "colab": {
          "base_uri": "https://localhost:8080/",
          "height": 443
        },
        "id": "BJyODUFG5oLs",
        "outputId": "0e5461f7-41f5-4ac3-decf-052b1d0020cd"
      },
      "source": [
        "## rearranging indices from 0 \n",
        "\n",
        "df = df.reset_index(drop=True)\n",
        "df"
      ],
      "execution_count": 42,
      "outputs": [
        {
          "output_type": "execute_result",
          "data": {
            "text/html": [
              "<div>\n",
              "<style scoped>\n",
              "    .dataframe tbody tr th:only-of-type {\n",
              "        vertical-align: middle;\n",
              "    }\n",
              "\n",
              "    .dataframe tbody tr th {\n",
              "        vertical-align: top;\n",
              "    }\n",
              "\n",
              "    .dataframe thead th {\n",
              "        text-align: right;\n",
              "    }\n",
              "</style>\n",
              "<table border=\"1\" class=\"dataframe\">\n",
              "  <thead>\n",
              "    <tr style=\"text-align: right;\">\n",
              "      <th></th>\n",
              "      <th>sex</th>\n",
              "      <th>dead</th>\n",
              "      <th>intubed</th>\n",
              "      <th>pneumonia</th>\n",
              "      <th>age</th>\n",
              "      <th>pregnancy</th>\n",
              "      <th>diabetes</th>\n",
              "      <th>copd</th>\n",
              "      <th>asthma</th>\n",
              "      <th>inmsupr</th>\n",
              "      <th>hypertension</th>\n",
              "      <th>other_disease</th>\n",
              "      <th>cardiovascular</th>\n",
              "      <th>obesity</th>\n",
              "      <th>renal_chronic</th>\n",
              "      <th>tobacco</th>\n",
              "      <th>contact_other_covid</th>\n",
              "      <th>covid_res</th>\n",
              "      <th>icu</th>\n",
              "    </tr>\n",
              "  </thead>\n",
              "  <tbody>\n",
              "    <tr>\n",
              "      <th>0</th>\n",
              "      <td>1.0</td>\n",
              "      <td>0.0</td>\n",
              "      <td>2.0</td>\n",
              "      <td>2.0</td>\n",
              "      <td>0</td>\n",
              "      <td>2.0</td>\n",
              "      <td>2.0</td>\n",
              "      <td>2.0</td>\n",
              "      <td>2.0</td>\n",
              "      <td>2.0</td>\n",
              "      <td>2.0</td>\n",
              "      <td>2.0</td>\n",
              "      <td>2.0</td>\n",
              "      <td>2.0</td>\n",
              "      <td>2.0</td>\n",
              "      <td>2.0</td>\n",
              "      <td>1.0</td>\n",
              "      <td>1.0</td>\n",
              "      <td>2.0</td>\n",
              "    </tr>\n",
              "    <tr>\n",
              "      <th>1</th>\n",
              "      <td>1.0</td>\n",
              "      <td>0.0</td>\n",
              "      <td>2.0</td>\n",
              "      <td>2.0</td>\n",
              "      <td>1</td>\n",
              "      <td>2.0</td>\n",
              "      <td>2.0</td>\n",
              "      <td>2.0</td>\n",
              "      <td>2.0</td>\n",
              "      <td>2.0</td>\n",
              "      <td>2.0</td>\n",
              "      <td>2.0</td>\n",
              "      <td>2.0</td>\n",
              "      <td>1.0</td>\n",
              "      <td>2.0</td>\n",
              "      <td>1.0</td>\n",
              "      <td>1.0</td>\n",
              "      <td>1.0</td>\n",
              "      <td>2.0</td>\n",
              "    </tr>\n",
              "    <tr>\n",
              "      <th>2</th>\n",
              "      <td>1.0</td>\n",
              "      <td>0.0</td>\n",
              "      <td>2.0</td>\n",
              "      <td>1.0</td>\n",
              "      <td>1</td>\n",
              "      <td>2.0</td>\n",
              "      <td>2.0</td>\n",
              "      <td>2.0</td>\n",
              "      <td>2.0</td>\n",
              "      <td>2.0</td>\n",
              "      <td>2.0</td>\n",
              "      <td>2.0</td>\n",
              "      <td>2.0</td>\n",
              "      <td>2.0</td>\n",
              "      <td>2.0</td>\n",
              "      <td>2.0</td>\n",
              "      <td>1.0</td>\n",
              "      <td>1.0</td>\n",
              "      <td>2.0</td>\n",
              "    </tr>\n",
              "    <tr>\n",
              "      <th>3</th>\n",
              "      <td>1.0</td>\n",
              "      <td>0.0</td>\n",
              "      <td>1.0</td>\n",
              "      <td>1.0</td>\n",
              "      <td>1</td>\n",
              "      <td>2.0</td>\n",
              "      <td>1.0</td>\n",
              "      <td>2.0</td>\n",
              "      <td>2.0</td>\n",
              "      <td>2.0</td>\n",
              "      <td>1.0</td>\n",
              "      <td>2.0</td>\n",
              "      <td>2.0</td>\n",
              "      <td>1.0</td>\n",
              "      <td>2.0</td>\n",
              "      <td>2.0</td>\n",
              "      <td>1.0</td>\n",
              "      <td>1.0</td>\n",
              "      <td>2.0</td>\n",
              "    </tr>\n",
              "    <tr>\n",
              "      <th>4</th>\n",
              "      <td>1.0</td>\n",
              "      <td>0.0</td>\n",
              "      <td>2.0</td>\n",
              "      <td>1.0</td>\n",
              "      <td>1</td>\n",
              "      <td>2.0</td>\n",
              "      <td>1.0</td>\n",
              "      <td>2.0</td>\n",
              "      <td>2.0</td>\n",
              "      <td>2.0</td>\n",
              "      <td>2.0</td>\n",
              "      <td>2.0</td>\n",
              "      <td>2.0</td>\n",
              "      <td>2.0</td>\n",
              "      <td>2.0</td>\n",
              "      <td>2.0</td>\n",
              "      <td>1.0</td>\n",
              "      <td>1.0</td>\n",
              "      <td>2.0</td>\n",
              "    </tr>\n",
              "    <tr>\n",
              "      <th>...</th>\n",
              "      <td>...</td>\n",
              "      <td>...</td>\n",
              "      <td>...</td>\n",
              "      <td>...</td>\n",
              "      <td>...</td>\n",
              "      <td>...</td>\n",
              "      <td>...</td>\n",
              "      <td>...</td>\n",
              "      <td>...</td>\n",
              "      <td>...</td>\n",
              "      <td>...</td>\n",
              "      <td>...</td>\n",
              "      <td>...</td>\n",
              "      <td>...</td>\n",
              "      <td>...</td>\n",
              "      <td>...</td>\n",
              "      <td>...</td>\n",
              "      <td>...</td>\n",
              "      <td>...</td>\n",
              "    </tr>\n",
              "    <tr>\n",
              "      <th>20324</th>\n",
              "      <td>1.0</td>\n",
              "      <td>0.0</td>\n",
              "      <td>2.0</td>\n",
              "      <td>1.0</td>\n",
              "      <td>1</td>\n",
              "      <td>2.0</td>\n",
              "      <td>1.0</td>\n",
              "      <td>2.0</td>\n",
              "      <td>2.0</td>\n",
              "      <td>2.0</td>\n",
              "      <td>2.0</td>\n",
              "      <td>2.0</td>\n",
              "      <td>2.0</td>\n",
              "      <td>2.0</td>\n",
              "      <td>2.0</td>\n",
              "      <td>2.0</td>\n",
              "      <td>2.0</td>\n",
              "      <td>2.0</td>\n",
              "      <td>2.0</td>\n",
              "    </tr>\n",
              "    <tr>\n",
              "      <th>20325</th>\n",
              "      <td>1.0</td>\n",
              "      <td>0.0</td>\n",
              "      <td>2.0</td>\n",
              "      <td>2.0</td>\n",
              "      <td>0</td>\n",
              "      <td>2.0</td>\n",
              "      <td>2.0</td>\n",
              "      <td>2.0</td>\n",
              "      <td>2.0</td>\n",
              "      <td>2.0</td>\n",
              "      <td>2.0</td>\n",
              "      <td>2.0</td>\n",
              "      <td>2.0</td>\n",
              "      <td>2.0</td>\n",
              "      <td>2.0</td>\n",
              "      <td>2.0</td>\n",
              "      <td>2.0</td>\n",
              "      <td>2.0</td>\n",
              "      <td>2.0</td>\n",
              "    </tr>\n",
              "    <tr>\n",
              "      <th>20326</th>\n",
              "      <td>1.0</td>\n",
              "      <td>1.0</td>\n",
              "      <td>1.0</td>\n",
              "      <td>2.0</td>\n",
              "      <td>0</td>\n",
              "      <td>2.0</td>\n",
              "      <td>2.0</td>\n",
              "      <td>2.0</td>\n",
              "      <td>2.0</td>\n",
              "      <td>2.0</td>\n",
              "      <td>2.0</td>\n",
              "      <td>1.0</td>\n",
              "      <td>2.0</td>\n",
              "      <td>2.0</td>\n",
              "      <td>2.0</td>\n",
              "      <td>1.0</td>\n",
              "      <td>2.0</td>\n",
              "      <td>2.0</td>\n",
              "      <td>2.0</td>\n",
              "    </tr>\n",
              "    <tr>\n",
              "      <th>20327</th>\n",
              "      <td>1.0</td>\n",
              "      <td>0.0</td>\n",
              "      <td>2.0</td>\n",
              "      <td>1.0</td>\n",
              "      <td>0</td>\n",
              "      <td>2.0</td>\n",
              "      <td>2.0</td>\n",
              "      <td>2.0</td>\n",
              "      <td>2.0</td>\n",
              "      <td>2.0</td>\n",
              "      <td>2.0</td>\n",
              "      <td>2.0</td>\n",
              "      <td>2.0</td>\n",
              "      <td>2.0</td>\n",
              "      <td>2.0</td>\n",
              "      <td>2.0</td>\n",
              "      <td>2.0</td>\n",
              "      <td>2.0</td>\n",
              "      <td>1.0</td>\n",
              "    </tr>\n",
              "    <tr>\n",
              "      <th>20328</th>\n",
              "      <td>1.0</td>\n",
              "      <td>0.0</td>\n",
              "      <td>2.0</td>\n",
              "      <td>1.0</td>\n",
              "      <td>1</td>\n",
              "      <td>2.0</td>\n",
              "      <td>2.0</td>\n",
              "      <td>2.0</td>\n",
              "      <td>2.0</td>\n",
              "      <td>2.0</td>\n",
              "      <td>2.0</td>\n",
              "      <td>2.0</td>\n",
              "      <td>2.0</td>\n",
              "      <td>1.0</td>\n",
              "      <td>2.0</td>\n",
              "      <td>2.0</td>\n",
              "      <td>2.0</td>\n",
              "      <td>2.0</td>\n",
              "      <td>2.0</td>\n",
              "    </tr>\n",
              "  </tbody>\n",
              "</table>\n",
              "<p>20329 rows × 19 columns</p>\n",
              "</div>"
            ],
            "text/plain": [
              "       sex  dead  intubed  ...  contact_other_covid  covid_res  icu\n",
              "0      1.0   0.0      2.0  ...                  1.0        1.0  2.0\n",
              "1      1.0   0.0      2.0  ...                  1.0        1.0  2.0\n",
              "2      1.0   0.0      2.0  ...                  1.0        1.0  2.0\n",
              "3      1.0   0.0      1.0  ...                  1.0        1.0  2.0\n",
              "4      1.0   0.0      2.0  ...                  1.0        1.0  2.0\n",
              "...    ...   ...      ...  ...                  ...        ...  ...\n",
              "20324  1.0   0.0      2.0  ...                  2.0        2.0  2.0\n",
              "20325  1.0   0.0      2.0  ...                  2.0        2.0  2.0\n",
              "20326  1.0   1.0      1.0  ...                  2.0        2.0  2.0\n",
              "20327  1.0   0.0      2.0  ...                  2.0        2.0  1.0\n",
              "20328  1.0   0.0      2.0  ...                  2.0        2.0  2.0\n",
              "\n",
              "[20329 rows x 19 columns]"
            ]
          },
          "metadata": {
            "tags": []
          },
          "execution_count": 42
        }
      ]
    },
    {
      "cell_type": "code",
      "metadata": {
        "colab": {
          "base_uri": "https://localhost:8080/"
        },
        "id": "rLhx5QI05z9c",
        "outputId": "d45c89e0-72d6-4be2-81d2-9b88881525ea"
      },
      "source": [
        "df.info()"
      ],
      "execution_count": 43,
      "outputs": [
        {
          "output_type": "stream",
          "text": [
            "<class 'pandas.core.frame.DataFrame'>\n",
            "RangeIndex: 20329 entries, 0 to 20328\n",
            "Data columns (total 19 columns):\n",
            " #   Column               Non-Null Count  Dtype  \n",
            "---  ------               --------------  -----  \n",
            " 0   sex                  20329 non-null  float64\n",
            " 1   dead                 20329 non-null  float64\n",
            " 2   intubed              20329 non-null  float64\n",
            " 3   pneumonia            20329 non-null  float64\n",
            " 4   age                  20329 non-null  int64  \n",
            " 5   pregnancy            20329 non-null  float64\n",
            " 6   diabetes             20329 non-null  float64\n",
            " 7   copd                 20329 non-null  float64\n",
            " 8   asthma               20329 non-null  float64\n",
            " 9   inmsupr              20329 non-null  float64\n",
            " 10  hypertension         20329 non-null  float64\n",
            " 11  other_disease        20329 non-null  float64\n",
            " 12  cardiovascular       20329 non-null  float64\n",
            " 13  obesity              20329 non-null  float64\n",
            " 14  renal_chronic        20329 non-null  float64\n",
            " 15  tobacco              20329 non-null  float64\n",
            " 16  contact_other_covid  20329 non-null  float64\n",
            " 17  covid_res            20329 non-null  float64\n",
            " 18  icu                  20329 non-null  float64\n",
            "dtypes: float64(18), int64(1)\n",
            "memory usage: 2.9 MB\n"
          ],
          "name": "stdout"
        }
      ]
    },
    {
      "cell_type": "code",
      "metadata": {
        "colab": {
          "base_uri": "https://localhost:8080/"
        },
        "id": "3T6Xbhry7bBU",
        "outputId": "2794f2b4-498d-43df-8a4a-9f52acc1eb02"
      },
      "source": [
        "## shape of the final dataframe after cleaning\n",
        "df.shape"
      ],
      "execution_count": 44,
      "outputs": [
        {
          "output_type": "execute_result",
          "data": {
            "text/plain": [
              "(20329, 19)"
            ]
          },
          "metadata": {
            "tags": []
          },
          "execution_count": 44
        }
      ]
    },
    {
      "cell_type": "markdown",
      "metadata": {
        "id": "wWlBl6wqLuSj"
      },
      "source": [
        "Let us change all the \"2\" as \"0\" so thta in the data we have only \"0\" and \"1\" in all columns"
      ]
    },
    {
      "cell_type": "code",
      "metadata": {
        "id": "Fb_orSFZ-r-z"
      },
      "source": [
        " ## save age and death\n",
        " \n",
        "temp = df[['age','dead']]\n",
        "df = df.replace({2 : 0})\n",
        "df[['age','dead']] = temp"
      ],
      "execution_count": 45,
      "outputs": []
    },
    {
      "cell_type": "markdown",
      "metadata": {
        "id": "D1leIUCDMLix"
      },
      "source": [
        "## **EDA**"
      ]
    },
    {
      "cell_type": "code",
      "metadata": {
        "colab": {
          "base_uri": "https://localhost:8080/",
          "height": 295
        },
        "id": "cbTuHqWMMTGJ",
        "outputId": "280cbb58-f763-4aa8-832b-49212b382646"
      },
      "source": [
        "## Lets analyse more about ICU requirement\n",
        "plt.figure(figsize=(4,4))\n",
        "sns.countplot(x='icu',data=df)\n",
        "plt.title('Distribution of ICU patients')\n",
        "plt.xlabel('In ICU')\n",
        "plt.ylabel('Count')\n",
        "plt.xticks([0,1],['No','Yes'])\n",
        "plt.show()"
      ],
      "execution_count": 46,
      "outputs": [
        {
          "output_type": "display_data",
          "data": {
            "image/png": "[encoded data removed]",
            "text/plain": [
              "<Figure size 288x288 with 1 Axes>"
            ]
          },
          "metadata": {
            "tags": [],
            "needs_background": "light"
          }
        }
      ]
    },
    {
      "cell_type": "markdown",
      "metadata": {
        "id": "iLxBJ66IrykZ"
      },
      "source": [
        "It says that most of the people are not admitted in ICU.\n",
        "\n",
        "\n",
        "Now lets compare covid result and ICU admission"
      ]
    },
    {
      "cell_type": "code",
      "metadata": {
        "colab": {
          "base_uri": "https://localhost:8080/",
          "height": 405
        },
        "id": "HEo9psRlMTCQ",
        "outputId": "b7968d3e-7f57-4713-a52d-7d3a634ddca8"
      },
      "source": [
        "plt.figure(figsize=(8,6))\n",
        "\n",
        "plot = sns.countplot(x='covid_res',hue='icu',data=df)\n",
        "plot.legend_.set_title('Admitted in ICU')\n",
        "labels = ['no','yes']\n",
        "for text, label in zip(plot.legend_.texts, labels): \n",
        "    text.set_text(label)\n",
        "\n",
        "plt.title('Test result and ICU requirement')\n",
        "plt.xlabel('covid_result')\n",
        "plt.ylabel('Count')\n",
        "plt.xticks([1,0],['positive','negative'])\n",
        "\n",
        "plt.show()"
      ],
      "execution_count": 53,
      "outputs": [
        {
          "output_type": "display_data",
          "data": {
            "image/png": "[encoded data removed]",
            "text/plain": [
              "<Figure size 576x432 with 1 Axes>"
            ]
          },
          "metadata": {
            "tags": [],
            "needs_background": "light"
          }
        }
      ]
    },
    {
      "cell_type": "markdown",
      "metadata": {
        "id": "ksAxTf5PuqQN"
      },
      "source": [
        "By this we can say that even people who tested negative also got admitted into icu.\n",
        "\n",
        "Now we are going to compare death and icu admission "
      ]
    },
    {
      "cell_type": "code",
      "metadata": {
        "colab": {
          "base_uri": "https://localhost:8080/",
          "height": 404
        },
        "id": "s3FXQhpYMS_i",
        "outputId": "7adf9bf8-6272-450f-eb28-2717a0b9ee9e"
      },
      "source": [
        "plt.figure(figsize=(8,6))\n",
        "\n",
        "plot = sns.countplot(x='icu',hue='dead',data=df)\n",
        "plot.legend_.set_title('Death')\n",
        "labels = ['Alive','Dead']\n",
        "for text, label in zip(plot.legend_.texts, labels): \n",
        "    text.set_text(label)\n",
        "\n",
        "plt.title('Death in ICU patients')\n",
        "plt.xlabel('Admitted to ICU')\n",
        "plt.ylabel('Count')\n",
        "plt.xticks([0,1],['No','Yes'])\n",
        "\n",
        "plt.show()"
      ],
      "execution_count": 56,
      "outputs": [
        {
          "output_type": "display_data",
          "data": {
            "image/png": "[encoded data removed]",
            "text/plain": [
              "<Figure size 576x432 with 1 Axes>"
            ]
          },
          "metadata": {
            "tags": [],
            "needs_background": "light"
          }
        }
      ]
    },
    {
      "cell_type": "markdown",
      "metadata": {
        "id": "kr5D224ZwoGM"
      },
      "source": [
        "Now let's compare the icu admission with various heatlth complications of the patient."
      ]
    },
    {
      "cell_type": "code",
      "metadata": {
        "colab": {
          "base_uri": "https://localhost:8080/",
          "height": 1000
        },
        "id": "sIPH9xWUMS8x",
        "outputId": "246f3ba5-24a1-4b52-a5ef-333a97ac874a"
      },
      "source": [
        "columns = [['intubed', 'Intubated'],['pneumonia', 'Has Pneumonia'],['diabetes', 'Has diabetes'],\n",
        "    ['copd', 'Has COPD'],['asthma', 'Has asthma'],['inmsupr', 'Has immuno suppression'],\n",
        "    ['hypertension', 'Has hypertension'],['other_disease', 'Has other disease'],\n",
        "    ['cardiovascular', 'Has cardiovascular disease'],['obesity', 'Is obese'],\n",
        "    ['renal_chronic', 'Has chronic kidney failure'],['tobacco','Tobacco user']]\n",
        "\n",
        "\n",
        "legend = ['No','Yes']\n",
        "\n",
        "fig,ax = plt.subplots(nrows=4,ncols=3,figsize=(16,24))\n",
        "\n",
        "counter = 0\n",
        "for row in range(4):\n",
        "    for column in range(3):  \n",
        "        plot = sns.countplot(x='icu',hue=columns[counter][0],data=df,ax=ax[row][column])\n",
        "        plot.legend_.set_title(columns[counter][1])\n",
        "        for text, label in zip(plot.legend_.texts, legend): \n",
        "            text.set_text(label) \n",
        "        ax[row][column].set_xlabel('Admitted to ICU')\n",
        "        ax[row][column].set_xticks(range(2))\n",
        "        ax[row][column].set_xticklabels(['No','Yes'])\n",
        "        counter+=1\n",
        "        if row == 3 and column == 2:\n",
        "            break\n",
        "\n",
        "plt.suptitle('Covid positive patients with other health complications',fontsize=40)\n",
        "plt.show()"
      ],
      "execution_count": 66,
      "outputs": [
        {
          "output_type": "display_data",
          "data": {
            "image/png": "[encoded data removed]",
            "text/plain": [
              "<Figure size 1152x1728 with 12 Axes>"
            ]
          },
          "metadata": {
            "tags": [],
            "needs_background": "light"
          }
        }
      ]
    },
    {
      "cell_type": "markdown",
      "metadata": {
        "id": "olNpHEKa1Pum"
      },
      "source": [
        "From this we can infer that more percent of people who are intubated  or having pneumonia, hypertension, diabetes are admitted to the ICU"
      ]
    },
    {
      "cell_type": "markdown",
      "metadata": {
        "id": "0N7qdh7C2a81"
      },
      "source": [
        "## **MODEL BUILDING**"
      ]
    },
    {
      "cell_type": "code",
      "metadata": {
        "id": "uJUhBohm7e6y"
      },
      "source": [
        "## Separating the data into X and y \n",
        "X=df.iloc[:,:-1]\n",
        "y=df.iloc[:,-1]"
      ],
      "execution_count": 67,
      "outputs": []
    },
    {
      "cell_type": "code",
      "metadata": {
        "id": "EZsDcj9X7ypJ"
      },
      "source": [
        "## splitting the data into test and train data\n",
        "from sklearn.model_selection import train_test_split\n",
        "X_train,X_test,y_train,y_test=train_test_split(X,y,test_size=0.1,random_state=89) \n",
        "# here we took 90% data as training data and 10% data as test data and random state is 89"
      ],
      "execution_count": 68,
      "outputs": []
    },
    {
      "cell_type": "code",
      "metadata": {
        "id": "0P4o3izR8CAw"
      },
      "source": [
        "## defining logistic regression\n",
        "from sklearn.linear_model import LogisticRegression\n",
        "lr = LogisticRegression()"
      ],
      "execution_count": 69,
      "outputs": []
    },
    {
      "cell_type": "code",
      "metadata": {
        "id": "_bTuhgWI8P-i"
      },
      "source": [
        "## fitting train data into the model and prediting for the test data\n",
        "lr.fit(X_train,y_train)\n",
        "lr_pred = lr.predict(X_test)"
      ],
      "execution_count": 71,
      "outputs": []
    },
    {
      "cell_type": "code",
      "metadata": {
        "colab": {
          "base_uri": "https://localhost:8080/"
        },
        "id": "fhhoCjzf9XwV",
        "outputId": "fe748cea-433b-4a9c-cf20-9a7603fe6f3f"
      },
      "source": [
        "## finding the accuracy of the model\n",
        "lr.score(X_test,y_test)"
      ],
      "execution_count": 72,
      "outputs": [
        {
          "output_type": "execute_result",
          "data": {
            "text/plain": [
              "0.8819478603049681"
            ]
          },
          "metadata": {
            "tags": []
          },
          "execution_count": 72
        }
      ]
    },
    {
      "cell_type": "code",
      "metadata": {
        "colab": {
          "base_uri": "https://localhost:8080/"
        },
        "id": "B5Esh3Nl9aLB",
        "outputId": "002cdea5-7080-4180-bd69-2637f2082f7c"
      },
      "source": [
        "## finding the error\n",
        "from sklearn.metrics import mean_squared_error\n",
        "msq_er = mean_squared_error(y_test, lr_pred)\n",
        "print(msq_er)"
      ],
      "execution_count": 73,
      "outputs": [
        {
          "output_type": "stream",
          "text": [
            "0.11805213969503198\n"
          ],
          "name": "stdout"
        }
      ]
    },
    {
      "cell_type": "markdown",
      "metadata": {
        "id": "p05xNC6b8vLc"
      },
      "source": [
        "Hence finallly attained an accuracy of 88% for the logistic regression model"
      ]
    }
  ]
}